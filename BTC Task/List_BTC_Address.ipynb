{
 "cells": [
  {
   "cell_type": "code",
   "execution_count": 13,
   "metadata": {
    "scrolled": true
   },
   "outputs": [
    {
     "name": "stdout",
     "output_type": "stream",
     "text": [
      "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\n"
     ]
    }
   ],
   "source": [
    "TestFile = open('Transaction_hex.txt', 'r')\n",
    "Hex = TestFile.read()         \n",
    "TestFile.close()\n",
    "\n",
    "print(Hex) "
   ]
  },
  {
   "cell_type": "code",
   "execution_count": 4,
   "metadata": {},
   "outputs": [
    {
     "name": "stdout",
     "output_type": "stream",
     "text": [
      "['1APucfmQBT6VDNufYT98RCRPoMkEtt9KT5', '1ofxbC4Sr8YBhoBwLnSZfkzXqfUEU62bi', '1LXobfwGABf77kWpAQFZf3tRHGqcqBPbGX', '1HPtHWgoUmm3GxGq5H53CWKY65UGQDEMN6', '1356kdDw4Lph7Xqiw55j1MZkRBZwvo5pdu', '17emCdWgaPFtYsfuc7dDz3wvrM7hgaqsUx', '1KkWvGS6XYT2eqYG7cbCZfJbhALi1UVhnS', '16f1rLNRQbKVu5uwfwafs36Xoqnwb5GYif', '1mjD6Fa6EbxDMURLwR4ZC9T2dkByAV9oa', '1Jv7xMyv8HkiHP4aqAmmxbXRDTNHhCwaB4', '13KpxCS1RwafwswKQFotkwAcJ5ZSTK4XLN', '1LzoR8qLMgYiUnWyaWjCvyJSWpuREagjCK', '1GvgmDuJ5c1mxVQLDw9ASSa1mURWTLC57s', '14jZEyqgetx9dWBJmh9YNKynZHvoW6ebec', '1DkoiUtCRxyjGi2Y3Edc7N4HQXi2dvYxNM', '1P4an188Vtu6JWHAuJRXNugmRLQ3U7AxFf', '1MPRh7vSx4ML6cKyn4bQmcWeWWSypZ5Uf4', '15aW7dS8hrtKc8aiu84LdCXLaXsHFgH5cr', '1BvshUfe9m8tgJr5WEuCYhce93uwBZSiG6', '1CaWUXMH7zVh2Ygjn6LHpj5TpNtm58BzE6', '1PKKQFyNUxyRgcamFbTDcyRSa2mXs2f6zx', '1HAugxxLm7WHcn7nERRDMsWHMtGUyv3hQU', '1JrY2GBFkxUxGjW6vnVW9UjSijhmytXtUL', '1DsdyA5wCZPFxuP1TAJ5YCY6asq3QEjoMx', '1FZuXAuTJZmT44Nd2EUjwE7xMeRKyGjhQ3', '1HDH1MbVVNREpJJVVSkhgP87ZSYG9xEwwL', '15jvrf2zghEHFsiyFCVdmuMFAHpxdwWxo8', '1JWbY7Nz4JieiRPPpFQizrK3qhZw75sRV2', '162XPkvhiqU5fi9bdAmEZrExxYCFQ21fNb', '13F9tKCQVfXjSD6DEGByuHdcyLEWSMk3P1', '1HP2uig4GeWAKWDK8F4myhLsyRd48dkPbJ', '12tJDVjQJ1B4csiyvUEEFkT5WpM6jNJK5g', '1JUoDTwKLfTeVdMdRALDEVBqz2uKFSjxjV', '191mDAmT92EoxKiUwYSsdqN1MBRyHCXjQ8', '1A2Ha8rbuTKM6TCEAHJ3iNFs7K7DxGKyMD', '1647pcoBuTrSYYAg6Z9NNvAfPWdgsJDXNd', '1Eav8VH6oKvijaLyH5oWb2PMemWQ4SwCoF', '1HJ8szuk6JRQbxrJjumZfMZHBYkW9x8NBw', '1GiqJsKQwmTvnCNKLuKjA67HAcnpUnsWmn', '1E4ABz8vxS8pdHfCkf33WqDVT3pLfEUo15', '1NSJnck1yx8GwtLJMER2fyJ7PRcShpdj6t', '1FAggefXkXfagntNMWHNSikYgz1nC8Ws2P', '14b32APrimF3kcFkmrm8z5i62MTUsV4M7M', '14b32APrimF3kcFkmrm8z5i62MTUsV4M7M', '13KpxCS1RwafwswKQFotkwAcJ5ZSTK4XLN', '1HPtHWgoUmm3GxGq5H53CWKY65UGQDEMN6', '1A2Ha8rbuTKM6TCEAHJ3iNFs7K7DxGKyMD', '1356kdDw4Lph7Xqiw55j1MZkRBZwvo5pdu', '1FZuXAuTJZmT44Nd2EUjwE7xMeRKyGjhQ3', '1647pcoBuTrSYYAg6Z9NNvAfPWdgsJDXNd', '1PKKQFyNUxyRgcamFbTDcyRSa2mXs2f6zx', '17emCdWgaPFtYsfuc7dDz3wvrM7hgaqsUx', '162XPkvhiqU5fi9bdAmEZrExxYCFQ21fNb', '1KkWvGS6XYT2eqYG7cbCZfJbhALi1UVhnS', '1P4an188Vtu6JWHAuJRXNugmRLQ3U7AxFf', '1CaWUXMH7zVh2Ygjn6LHpj5TpNtm58BzE6', '1LXobfwGABf77kWpAQFZf3tRHGqcqBPbGX', '1Eav8VH6oKvijaLyH5oWb2PMemWQ4SwCoF', '1MPRh7vSx4ML6cKyn4bQmcWeWWSypZ5Uf4', '1JWbY7Nz4JieiRPPpFQizrK3qhZw75sRV2', '1HJ8szuk6JRQbxrJjumZfMZHBYkW9x8NBw', '16f1rLNRQbKVu5uwfwafs36Xoqnwb5GYif', '1LzoR8qLMgYiUnWyaWjCvyJSWpuREagjCK', '1GiqJsKQwmTvnCNKLuKjA67HAcnpUnsWmn', '1APucfmQBT6VDNufYT98RCRPoMkEtt9KT5', '1HAugxxLm7WHcn7nERRDMsWHMtGUyv3hQU', '13F9tKCQVfXjSD6DEGByuHdcyLEWSMk3P1', '15aW7dS8hrtKc8aiu84LdCXLaXsHFgH5cr']\n"
     ]
    }
   ],
   "source": [
    "import json\n",
    "\n",
    "with open('decode_tx.txt', 'r') as file:\n",
    "    data = file.read().replace(\"\\n\",\"\")\n",
    "    dic_data = json.loads(data)\n",
    "    listed_adr = dic_data[\"addresses\"]\n",
    "    \n",
    "    for adr in dic_data[\"inputs\"]:\n",
    "         listed_adr += adr[\"addresses\"]\n",
    "    \n",
    "print(listed_adr)"
   ]
  },
  {
   "cell_type": "code",
   "execution_count": 8,
   "metadata": {},
   "outputs": [
    {
     "name": "stdout",
     "output_type": "stream",
     "text": [
      "False\n"
     ]
    }
   ],
   "source": [
    "import json\n",
    "\n",
    "with open('decode_tx.txt', 'r') as file:\n",
    "    data = file.read().replace(\"\\n\",\"\")\n",
    "    dic_data = json.loads(data)\n",
    "    listed_adr = dic_data[\"addresses\"]\n",
    "    \n",
    "    for adr in dic_data[\"inputs\"]:\n",
    "         listed_adr += adr[\"addresses\"]\n",
    "\n",
    "test_adr =\"1MPRh7vSxL6cKyn4bQmcWeWWSypZ5Uf4\"\n",
    "print(test_adr in listed_adr)"
   ]
  },
  {
   "cell_type": "code",
   "execution_count": 6,
   "metadata": {},
   "outputs": [
    {
     "name": "stdout",
     "output_type": "stream",
     "text": [
      "('1APucfmQBT6VDNufYT98RCRPoMkEtt9KT5', '1ofxbC4Sr8YBhoBwLnSZfkzXqfUEU62bi', '1LXobfwGABf77kWpAQFZf3tRHGqcqBPbGX', '1HPtHWgoUmm3GxGq5H53CWKY65UGQDEMN6', '1356kdDw4Lph7Xqiw55j1MZkRBZwvo5pdu', '17emCdWgaPFtYsfuc7dDz3wvrM7hgaqsUx', '1KkWvGS6XYT2eqYG7cbCZfJbhALi1UVhnS', '16f1rLNRQbKVu5uwfwafs36Xoqnwb5GYif', '1mjD6Fa6EbxDMURLwR4ZC9T2dkByAV9oa', '1Jv7xMyv8HkiHP4aqAmmxbXRDTNHhCwaB4', '13KpxCS1RwafwswKQFotkwAcJ5ZSTK4XLN', '1LzoR8qLMgYiUnWyaWjCvyJSWpuREagjCK', '1GvgmDuJ5c1mxVQLDw9ASSa1mURWTLC57s', '14jZEyqgetx9dWBJmh9YNKynZHvoW6ebec', '1DkoiUtCRxyjGi2Y3Edc7N4HQXi2dvYxNM', '1P4an188Vtu6JWHAuJRXNugmRLQ3U7AxFf', '1MPRh7vSx4ML6cKyn4bQmcWeWWSypZ5Uf4', '15aW7dS8hrtKc8aiu84LdCXLaXsHFgH5cr', '1BvshUfe9m8tgJr5WEuCYhce93uwBZSiG6', '1CaWUXMH7zVh2Ygjn6LHpj5TpNtm58BzE6', '1PKKQFyNUxyRgcamFbTDcyRSa2mXs2f6zx', '1HAugxxLm7WHcn7nERRDMsWHMtGUyv3hQU', '1JrY2GBFkxUxGjW6vnVW9UjSijhmytXtUL', '1DsdyA5wCZPFxuP1TAJ5YCY6asq3QEjoMx', '1FZuXAuTJZmT44Nd2EUjwE7xMeRKyGjhQ3', '1HDH1MbVVNREpJJVVSkhgP87ZSYG9xEwwL', '15jvrf2zghEHFsiyFCVdmuMFAHpxdwWxo8', '1JWbY7Nz4JieiRPPpFQizrK3qhZw75sRV2', '162XPkvhiqU5fi9bdAmEZrExxYCFQ21fNb', '13F9tKCQVfXjSD6DEGByuHdcyLEWSMk3P1', '1HP2uig4GeWAKWDK8F4myhLsyRd48dkPbJ', '12tJDVjQJ1B4csiyvUEEFkT5WpM6jNJK5g', '1JUoDTwKLfTeVdMdRALDEVBqz2uKFSjxjV', '191mDAmT92EoxKiUwYSsdqN1MBRyHCXjQ8', '1A2Ha8rbuTKM6TCEAHJ3iNFs7K7DxGKyMD', '1647pcoBuTrSYYAg6Z9NNvAfPWdgsJDXNd', '1Eav8VH6oKvijaLyH5oWb2PMemWQ4SwCoF', '1HJ8szuk6JRQbxrJjumZfMZHBYkW9x8NBw', '1GiqJsKQwmTvnCNKLuKjA67HAcnpUnsWmn', '1E4ABz8vxS8pdHfCkf33WqDVT3pLfEUo15', '1NSJnck1yx8GwtLJMER2fyJ7PRcShpdj6t', '1FAggefXkXfagntNMWHNSikYgz1nC8Ws2P', '14b32APrimF3kcFkmrm8z5i62MTUsV4M7M', '14b32APrimF3kcFkmrm8z5i62MTUsV4M7M', '13KpxCS1RwafwswKQFotkwAcJ5ZSTK4XLN', '1HPtHWgoUmm3GxGq5H53CWKY65UGQDEMN6', '1A2Ha8rbuTKM6TCEAHJ3iNFs7K7DxGKyMD', '1356kdDw4Lph7Xqiw55j1MZkRBZwvo5pdu', '1FZuXAuTJZmT44Nd2EUjwE7xMeRKyGjhQ3', '1647pcoBuTrSYYAg6Z9NNvAfPWdgsJDXNd', '1PKKQFyNUxyRgcamFbTDcyRSa2mXs2f6zx', '17emCdWgaPFtYsfuc7dDz3wvrM7hgaqsUx', '162XPkvhiqU5fi9bdAmEZrExxYCFQ21fNb', '1KkWvGS6XYT2eqYG7cbCZfJbhALi1UVhnS', '1P4an188Vtu6JWHAuJRXNugmRLQ3U7AxFf', '1CaWUXMH7zVh2Ygjn6LHpj5TpNtm58BzE6', '1LXobfwGABf77kWpAQFZf3tRHGqcqBPbGX', '1Eav8VH6oKvijaLyH5oWb2PMemWQ4SwCoF', '1MPRh7vSx4ML6cKyn4bQmcWeWWSypZ5Uf4', '1JWbY7Nz4JieiRPPpFQizrK3qhZw75sRV2', '1HJ8szuk6JRQbxrJjumZfMZHBYkW9x8NBw', '16f1rLNRQbKVu5uwfwafs36Xoqnwb5GYif', '1LzoR8qLMgYiUnWyaWjCvyJSWpuREagjCK', '1GiqJsKQwmTvnCNKLuKjA67HAcnpUnsWmn', '1APucfmQBT6VDNufYT98RCRPoMkEtt9KT5', '1HAugxxLm7WHcn7nERRDMsWHMtGUyv3hQU', '13F9tKCQVfXjSD6DEGByuHdcyLEWSMk3P1', '15aW7dS8hrtKc8aiu84LdCXLaXsHFgH5cr', '1mjD6Fa6EbxDMURLwR4ZC9T2dkByAV9oa', '1JrY2GBFkxUxGjW6vnVW9UjSijhmytXtUL', '1E4ABz8vxS8pdHfCkf33WqDVT3pLfEUo15', '1HP2uig4GeWAKWDK8F4myhLsyRd48dkPbJ', '1NSJnck1yx8GwtLJMER2fyJ7PRcShpdj6t', '1HDH1MbVVNREpJJVVSkhgP87ZSYG9xEwwL', '1DsdyA5wCZPFxuP1TAJ5YCY6asq3QEjoMx', '1FAggefXkXfagntNMWHNSikYgz1nC8Ws2P', '1GvgmDuJ5c1mxVQLDw9ASSa1mURWTLC57s', '1ofxbC4Sr8YBhoBwLnSZfkzXqfUEU62bi', '12tJDVjQJ1B4csiyvUEEFkT5WpM6jNJK5g', '14jZEyqgetx9dWBJmh9YNKynZHvoW6ebec', '1JUoDTwKLfTeVdMdRALDEVBqz2uKFSjxjV', '191mDAmT92EoxKiUwYSsdqN1MBRyHCXjQ8', '15jvrf2zghEHFsiyFCVdmuMFAHpxdwWxo8', '1Jv7xMyv8HkiHP4aqAmmxbXRDTNHhCwaB4', '1DkoiUtCRxyjGi2Y3Edc7N4HQXi2dvYxNM', '1BvshUfe9m8tgJr5WEuCYhce93uwBZSiG6')\n"
     ]
    }
   ],
   "source": [
    "import re\n",
    "\n",
    "with open('decode_tx.txt', 'r') as fo:\n",
    "    data = fo.read().replace(\"\\n\",\"\")\n",
    "    listed_address = re.findall('(addresses\": \\[)(.*?)(\\])',data)\n",
    "    tupled_address = ()\n",
    "    for tup in listed_address:\n",
    "        evaluated = eval(tup[1])\n",
    "        if type(evaluated) == str:\n",
    "            tupled_address += (evaluated,)\n",
    "        else:\n",
    "            tupled_address += evaluated\n",
    "            \n",
    "    print(tupled_address)"
   ]
  },
  {
   "cell_type": "code",
   "execution_count": 12,
   "metadata": {},
   "outputs": [
    {
     "name": "stdout",
     "output_type": "stream",
     "text": [
      "True\n"
     ]
    }
   ],
   "source": [
    "import re\n",
    "\n",
    "with open('decode_tx.txt', 'r') as fo:\n",
    "    data = fo.read().replace(\"\\n\",\"\")\n",
    "    listed_address = re.findall('(addresses\": \\[)(.*?)(\\])',data)\n",
    "    tupled_address = ()\n",
    "    for tup in listed_address:\n",
    "        evaluated = eval(tup[1])\n",
    "        if type(evaluated) == str:\n",
    "            tupled_address += (evaluated,)\n",
    "        else:\n",
    "            tupled_address += evaluated\n",
    "            \n",
    "test_adr = \"1HDH1MbVVNREpJJVVSkhgP87ZSYG9xEwwL\"\n",
    "print(test_adr in tupled_address)"
   ]
  },
  {
   "cell_type": "code",
   "execution_count": null,
   "metadata": {},
   "outputs": [],
   "source": []
  }
 ],
 "metadata": {
  "kernelspec": {
   "display_name": "Python 3",
   "language": "python",
   "name": "python3"
  },
  "language_info": {
   "codemirror_mode": {
    "name": "ipython",
    "version": 3
   },
   "file_extension": ".py",
   "mimetype": "text/x-python",
   "name": "python",
   "nbconvert_exporter": "python",
   "pygments_lexer": "ipython3",
   "version": "3.7.3"
  }
 },
 "nbformat": 4,
 "nbformat_minor": 2
}
