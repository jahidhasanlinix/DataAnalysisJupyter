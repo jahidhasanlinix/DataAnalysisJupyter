{
 "cells": [
  {
   "cell_type": "raw",
   "metadata": {},
   "source": [
    "# Practice Code"
   ]
  },
  {
   "cell_type": "code",
   "execution_count": 1,
   "metadata": {},
   "outputs": [
    {
     "data": {
      "text/plain": [
       "2"
      ]
     },
     "execution_count": 1,
     "metadata": {},
     "output_type": "execute_result"
    }
   ],
   "source": [
    "1+1"
   ]
  },
  {
   "cell_type": "code",
   "execution_count": 2,
   "metadata": {},
   "outputs": [
    {
     "data": {
      "text/plain": [
       "18"
      ]
     },
     "execution_count": 2,
     "metadata": {},
     "output_type": "execute_result"
    }
   ],
   "source": [
    "2*9"
   ]
  },
  {
   "cell_type": "code",
   "execution_count": 3,
   "metadata": {},
   "outputs": [
    {
     "data": {
      "text/plain": [
       "8"
      ]
     },
     "execution_count": 3,
     "metadata": {},
     "output_type": "execute_result"
    }
   ],
   "source": [
    "2**3"
   ]
  },
  {
   "cell_type": "code",
   "execution_count": 5,
   "metadata": {},
   "outputs": [
    {
     "name": "stdout",
     "output_type": "stream",
     "text": [
      "Hi Jahid Hasan.\n"
     ]
    }
   ],
   "source": [
    "print(\"Hi Jahid Hasan.\")"
   ]
  },
  {
   "cell_type": "code",
   "execution_count": 6,
   "metadata": {},
   "outputs": [
    {
     "name": "stdout",
     "output_type": "stream",
     "text": [
      "Hi Jahid\n"
     ]
    }
   ],
   "source": [
    "print(\"Hi Jahid\")"
   ]
  },
  {
   "cell_type": "code",
   "execution_count": 7,
   "metadata": {},
   "outputs": [
    {
     "name": "stdout",
     "output_type": "stream",
     "text": [
      "I am fine. How are you\n"
     ]
    }
   ],
   "source": [
    "print(\"I am fine. How are you\")"
   ]
  },
  {
   "cell_type": "code",
   "execution_count": 8,
   "metadata": {},
   "outputs": [
    {
     "name": "stdout",
     "output_type": "stream",
     "text": [
      "I am fine.nHow are you\n"
     ]
    }
   ],
   "source": [
    "print(\"I am fine.nHow are you\")"
   ]
  },
  {
   "cell_type": "raw",
   "metadata": {},
   "source": [
    "Escape sequences are \n",
    "\n",
    "\\n means Newline\n",
    "\n",
    "\\t means Tab"
   ]
  },
  {
   "cell_type": "code",
   "execution_count": 9,
   "metadata": {},
   "outputs": [
    {
     "name": "stdout",
     "output_type": "stream",
     "text": [
      "I am fine.\n",
      "How are you\n"
     ]
    }
   ],
   "source": [
    "print(\"I am fine.\\nHow are you\")"
   ]
  },
  {
   "cell_type": "code",
   "execution_count": 10,
   "metadata": {},
   "outputs": [
    {
     "name": "stdout",
     "output_type": "stream",
     "text": [
      "I am fine.\tHow are you\n"
     ]
    }
   ],
   "source": [
    "print(\"I am fine.\\tHow are you\")"
   ]
  },
  {
   "cell_type": "raw",
   "metadata": {},
   "source": [
    "Program to perform addition of two numbers."
   ]
  },
  {
   "cell_type": "code",
   "execution_count": 11,
   "metadata": {},
   "outputs": [
    {
     "name": "stdout",
     "output_type": "stream",
     "text": [
      "c\n",
      "5\n",
      "3\n",
      "8\n"
     ]
    }
   ],
   "source": [
    "a = 5 # a is a Variable and 5 is a constant\n",
    "b = 3 # # b is a Variable and 3 is a constant\n",
    "c = a+b\n",
    "print(\"c\")\n",
    "print(a)\n",
    "print(b)\n",
    "print(c)"
   ]
  },
  {
   "cell_type": "code",
   "execution_count": 12,
   "metadata": {},
   "outputs": [
    {
     "name": "stdout",
     "output_type": "stream",
     "text": [
      "Addition of a= 20 and b= 300 is c= 320\n"
     ]
    }
   ],
   "source": [
    "a = 20\n",
    "b = 300\n",
    "c = a+b\n",
    "print(\"Addition of a=\",a,\"and b=\",b,\"is c=\",c)"
   ]
  },
  {
   "cell_type": "code",
   "execution_count": 13,
   "metadata": {},
   "outputs": [
    {
     "name": "stdout",
     "output_type": "stream",
     "text": [
      "10\n",
      "<class 'int'>\n"
     ]
    }
   ],
   "source": [
    "a = 10\n",
    "print(a)\n",
    "print( type(a) )"
   ]
  },
  {
   "cell_type": "code",
   "execution_count": 14,
   "metadata": {},
   "outputs": [
    {
     "data": {
      "text/plain": [
       "int"
      ]
     },
     "execution_count": 14,
     "metadata": {},
     "output_type": "execute_result"
    }
   ],
   "source": [
    "type(10)"
   ]
  },
  {
   "cell_type": "code",
   "execution_count": 15,
   "metadata": {},
   "outputs": [
    {
     "data": {
      "text/plain": [
       "float"
      ]
     },
     "execution_count": 15,
     "metadata": {},
     "output_type": "execute_result"
    }
   ],
   "source": [
    "type(2.035464)"
   ]
  },
  {
   "cell_type": "code",
   "execution_count": 16,
   "metadata": {},
   "outputs": [
    {
     "data": {
      "text/plain": [
       "float"
      ]
     },
     "execution_count": 16,
     "metadata": {},
     "output_type": "execute_result"
    }
   ],
   "source": [
    "type(-54646.1161)"
   ]
  },
  {
   "cell_type": "code",
   "execution_count": 17,
   "metadata": {},
   "outputs": [
    {
     "data": {
      "text/plain": [
       "str"
      ]
     },
     "execution_count": 17,
     "metadata": {},
     "output_type": "execute_result"
    }
   ],
   "source": [
    "type(\"Jahid Hasan\")"
   ]
  },
  {
   "cell_type": "code",
   "execution_count": 18,
   "metadata": {},
   "outputs": [
    {
     "data": {
      "text/plain": [
       "str"
      ]
     },
     "execution_count": 18,
     "metadata": {},
     "output_type": "execute_result"
    }
   ],
   "source": [
    "type('Hey')"
   ]
  },
  {
   "cell_type": "code",
   "execution_count": 19,
   "metadata": {},
   "outputs": [
    {
     "data": {
      "text/plain": [
       "bool"
      ]
     },
     "execution_count": 19,
     "metadata": {},
     "output_type": "execute_result"
    }
   ],
   "source": [
    "type(True)"
   ]
  },
  {
   "cell_type": "code",
   "execution_count": 20,
   "metadata": {},
   "outputs": [
    {
     "data": {
      "text/plain": [
       "bool"
      ]
     },
     "execution_count": 20,
     "metadata": {},
     "output_type": "execute_result"
    }
   ],
   "source": [
    "type(False)"
   ]
  },
  {
   "cell_type": "code",
   "execution_count": 21,
   "metadata": {},
   "outputs": [
    {
     "data": {
      "text/plain": [
       "complex"
      ]
     },
     "execution_count": 21,
     "metadata": {},
     "output_type": "execute_result"
    }
   ],
   "source": [
    "type(2+3j)"
   ]
  },
  {
   "cell_type": "code",
   "execution_count": 22,
   "metadata": {},
   "outputs": [
    {
     "name": "stdout",
     "output_type": "stream",
     "text": [
      "(7+9j)\n"
     ]
    }
   ],
   "source": [
    "a = 2+3j\n",
    "b = 5+6j\n",
    "print(a+b)"
   ]
  },
  {
   "cell_type": "code",
   "execution_count": 23,
   "metadata": {},
   "outputs": [
    {
     "name": "stdout",
     "output_type": "stream",
     "text": [
      "Hey Jahid\n"
     ]
    }
   ],
   "source": [
    "print(\"Hey Jahid\")"
   ]
  },
  {
   "cell_type": "code",
   "execution_count": 24,
   "metadata": {},
   "outputs": [
    {
     "data": {
      "text/plain": [
       "['False',\n",
       " 'None',\n",
       " 'True',\n",
       " 'and',\n",
       " 'as',\n",
       " 'assert',\n",
       " 'async',\n",
       " 'await',\n",
       " 'break',\n",
       " 'class',\n",
       " 'continue',\n",
       " 'def',\n",
       " 'del',\n",
       " 'elif',\n",
       " 'else',\n",
       " 'except',\n",
       " 'finally',\n",
       " 'for',\n",
       " 'from',\n",
       " 'global',\n",
       " 'if',\n",
       " 'import',\n",
       " 'in',\n",
       " 'is',\n",
       " 'lambda',\n",
       " 'nonlocal',\n",
       " 'not',\n",
       " 'or',\n",
       " 'pass',\n",
       " 'raise',\n",
       " 'return',\n",
       " 'try',\n",
       " 'while',\n",
       " 'with',\n",
       " 'yield']"
      ]
     },
     "execution_count": 24,
     "metadata": {},
     "output_type": "execute_result"
    }
   ],
   "source": [
    "import keyword\n",
    "keyword.kwlist"
   ]
  },
  {
   "cell_type": "code",
   "execution_count": 25,
   "metadata": {},
   "outputs": [
    {
     "data": {
      "text/plain": [
       "35"
      ]
     },
     "execution_count": 25,
     "metadata": {},
     "output_type": "execute_result"
    }
   ],
   "source": [
    "len(keyword.kwlist)"
   ]
  },
  {
   "cell_type": "code",
   "execution_count": 26,
   "metadata": {},
   "outputs": [
    {
     "name": "stdout",
     "output_type": "stream",
     "text": [
      "while\n"
     ]
    }
   ],
   "source": [
    "print(\"while\")"
   ]
  },
  {
   "cell_type": "code",
   "execution_count": 27,
   "metadata": {},
   "outputs": [
    {
     "name": "stdout",
     "output_type": "stream",
     "text": [
      "45\n",
      "<class 'int'>\n",
      "45\n"
     ]
    }
   ],
   "source": [
    "c = 45\n",
    "print(c)\n",
    "print(type(c))\n",
    "print(c)"
   ]
  },
  {
   "cell_type": "markdown",
   "metadata": {},
   "source": [
    "# Operators"
   ]
  },
  {
   "cell_type": "code",
   "execution_count": 28,
   "metadata": {},
   "outputs": [
    {
     "name": "stdout",
     "output_type": "stream",
     "text": [
      "5\n",
      "-1\n",
      "6\n",
      "3.5\n",
      "3\n",
      "1\n"
     ]
    }
   ],
   "source": [
    "# Arithmetic\n",
    "print(2+3)\n",
    "print(2-3)\n",
    "print(2*3)\n",
    "print(7/2)\n",
    "print(7//2) # // Floor Division - Quotient\n",
    "print(7%2) # % Modulus - Remainder"
   ]
  },
  {
   "cell_type": "code",
   "execution_count": 29,
   "metadata": {},
   "outputs": [
    {
     "name": "stdout",
     "output_type": "stream",
     "text": [
      "True\n",
      "False\n",
      "True\n",
      "True\n",
      "False\n",
      "True\n"
     ]
    }
   ],
   "source": [
    "# Relational < <= > >= == !=\n",
    "print(2<3)\n",
    "print(3<1)\n",
    "print(3<=5)\n",
    "print(4==4)\n",
    "print(5==4)\n",
    "print(5!=4)"
   ]
  },
  {
   "cell_type": "code",
   "execution_count": 30,
   "metadata": {},
   "outputs": [
    {
     "data": {
      "text/plain": [
       "True"
      ]
     },
     "execution_count": 30,
     "metadata": {},
     "output_type": "execute_result"
    }
   ],
   "source": [
    "# Membership: in, not in\n",
    "\n",
    "'a' in \"Jahid\""
   ]
  },
  {
   "cell_type": "code",
   "execution_count": 32,
   "metadata": {},
   "outputs": [
    {
     "data": {
      "text/plain": [
       "False"
      ]
     },
     "execution_count": 32,
     "metadata": {},
     "output_type": "execute_result"
    }
   ],
   "source": [
    "'A' in \"Hasan\""
   ]
  },
  {
   "cell_type": "code",
   "execution_count": 34,
   "metadata": {},
   "outputs": [
    {
     "data": {
      "text/plain": [
       "False"
      ]
     },
     "execution_count": 34,
     "metadata": {},
     "output_type": "execute_result"
    }
   ],
   "source": [
    "'a' not in \"Jahid\""
   ]
  },
  {
   "cell_type": "code",
   "execution_count": 35,
   "metadata": {},
   "outputs": [
    {
     "data": {
      "text/plain": [
       "True"
      ]
     },
     "execution_count": 35,
     "metadata": {},
     "output_type": "execute_result"
    }
   ],
   "source": [
    "22 in [10,22,33,55,12,14]"
   ]
  },
  {
   "cell_type": "code",
   "execution_count": 36,
   "metadata": {},
   "outputs": [
    {
     "name": "stdout",
     "output_type": "stream",
     "text": [
      "94560985597088\n",
      "94560985597088\n",
      "94560985598368\n"
     ]
    }
   ],
   "source": [
    "a=5\n",
    "print(id(a)) # Address of a in RAM\n",
    "b=5\n",
    "print(id(b)) # Address of b in RAM\n",
    "b=45\n",
    "print(id(b)) # Address of b in RAM"
   ]
  },
  {
   "cell_type": "code",
   "execution_count": 37,
   "metadata": {},
   "outputs": [
    {
     "name": "stdout",
     "output_type": "stream",
     "text": [
      "94560985597088\n",
      "94560985597088\n",
      "140657898574544\n"
     ]
    }
   ],
   "source": [
    "a=5\n",
    "print(id(a)) # Address of a in RAM\n",
    "b=5\n",
    "print(id(b)) # Address of b in RAM\n",
    "b=5.0\n",
    "print(id(b)) # Address of b in RAM"
   ]
  },
  {
   "cell_type": "markdown",
   "metadata": {},
   "source": [
    "# Conditional statements:\n",
    "\n",
    "if\n",
    "\n",
    "elif\n",
    "\n",
    "else"
   ]
  },
  {
   "cell_type": "code",
   "execution_count": 38,
   "metadata": {},
   "outputs": [
    {
     "name": "stdout",
     "output_type": "stream",
     "text": [
      "Value of x= 5\n",
      "Hi I am Jahid Hasan.\n",
      "I am out of if statement!\n"
     ]
    }
   ],
   "source": [
    "x = 5\n",
    "if x==5:\n",
    "    print(\"Value of x=\",x)\n",
    "    print(\"Hi I am Jahid Hasan.\")\n",
    "print(\"I am out of if statement!\")"
   ]
  },
  {
   "cell_type": "code",
   "execution_count": 39,
   "metadata": {},
   "outputs": [
    {
     "name": "stdout",
     "output_type": "stream",
     "text": [
      "I am out of if statement\n"
     ]
    }
   ],
   "source": [
    "x = 15\n",
    "if x==5:\n",
    "    print(\"Value of x=\",x)\n",
    "    print(\"Hi I am Jahid Hasan.\")\n",
    "print(\"I am out of if statement\")"
   ]
  },
  {
   "cell_type": "code",
   "execution_count": 40,
   "metadata": {},
   "outputs": [
    {
     "name": "stdout",
     "output_type": "stream",
     "text": [
      "60 is an Even Number\n"
     ]
    }
   ],
   "source": [
    "# Program to check if the input number is even or odd\n",
    "x = 60\n",
    "if x%2 == 0:\n",
    "    print(x,\"is an Even Number\")\n",
    "else:\n",
    "    print(x,\"is a Odd Number\")"
   ]
  },
  {
   "cell_type": "code",
   "execution_count": 41,
   "metadata": {},
   "outputs": [
    {
     "name": "stdout",
     "output_type": "stream",
     "text": [
      "35 is equal to 35\n"
     ]
    }
   ],
   "source": [
    "x = 35\n",
    "if x>35:\n",
    "    print(x,\"is greater than 35\")\n",
    "elif x<35:\n",
    "    print(x,\"is less than 35\")\n",
    "else:\n",
    "    print(x,\"is equal to 35\")"
   ]
  },
  {
   "cell_type": "code",
   "execution_count": 42,
   "metadata": {},
   "outputs": [
    {
     "name": "stdout",
     "output_type": "stream",
     "text": [
      "350 is greater than 35\n"
     ]
    }
   ],
   "source": [
    "x = 350\n",
    "if x>35:\n",
    "    print(x,\"is greater than 35\")\n",
    "elif x<35:\n",
    "    print(x,\"is less than 35\")\n",
    "else:\n",
    "    print(x,\"is equal to 35\")"
   ]
  },
  {
   "cell_type": "code",
   "execution_count": 43,
   "metadata": {},
   "outputs": [
    {
     "name": "stdout",
     "output_type": "stream",
     "text": [
      "3 is less than 35\n"
     ]
    }
   ],
   "source": [
    "x = 3\n",
    "if x>35:\n",
    "    print(x,\"is greater than 35\")\n",
    "elif x<35:\n",
    "    print(x,\"is less than 35\")\n",
    "else:\n",
    "    print(x,\"is equal to 35\")"
   ]
  },
  {
   "cell_type": "markdown",
   "metadata": {},
   "source": [
    "# Input Output in Python"
   ]
  },
  {
   "cell_type": "code",
   "execution_count": 44,
   "metadata": {},
   "outputs": [
    {
     "name": "stdout",
     "output_type": "stream",
     "text": [
      "Jahid\n",
      "x is Jahid\n"
     ]
    }
   ],
   "source": [
    "x = input()\n",
    "print(\"x is\",x)"
   ]
  },
  {
   "cell_type": "code",
   "execution_count": 46,
   "metadata": {},
   "outputs": [
    {
     "name": "stdout",
     "output_type": "stream",
     "text": [
      "Enter the value of x: Jahid Hasan, Student\n",
      "x is Jahid Hasan, Student\n"
     ]
    }
   ],
   "source": [
    "x = input(\"Enter the value of x: \")\n",
    "print(\"x is\",x)"
   ]
  },
  {
   "cell_type": "code",
   "execution_count": 52,
   "metadata": {},
   "outputs": [
    {
     "name": "stdout",
     "output_type": "stream",
     "text": [
      "Enter 1st number: 5\n",
      "Enter 2nd number: 5\n",
      "Addition is 55\n"
     ]
    }
   ],
   "source": [
    "num1 = input(\"Enter 1st number: \")\n",
    "num2 = input(\"Enter 2nd number: \")\n",
    "add = num1 + num2\n",
    "print(\"Addition is\",add)"
   ]
  },
  {
   "cell_type": "code",
   "execution_count": 50,
   "metadata": {},
   "outputs": [
    {
     "name": "stdout",
     "output_type": "stream",
     "text": [
      "Jahid is a Student.\n"
     ]
    }
   ],
   "source": [
    "s1 = \"Jahid\"\n",
    "s2 = \" is a Student.\"\n",
    "print(s1+s2)"
   ]
  },
  {
   "cell_type": "code",
   "execution_count": 53,
   "metadata": {},
   "outputs": [
    {
     "name": "stdout",
     "output_type": "stream",
     "text": [
      "7525\n"
     ]
    }
   ],
   "source": [
    "s1 = \"75\"\n",
    "s2 = \"25\"\n",
    "print(s1+s2)"
   ]
  },
  {
   "cell_type": "code",
   "execution_count": 54,
   "metadata": {},
   "outputs": [
    {
     "name": "stdout",
     "output_type": "stream",
     "text": [
      "Enter input:Jahid\n",
      "Jahid\n",
      "<class 'str'>\n"
     ]
    }
   ],
   "source": [
    "x = input(\"Enter input:\")\n",
    "print(x)\n",
    "print(type(x))"
   ]
  },
  {
   "cell_type": "code",
   "execution_count": 55,
   "metadata": {},
   "outputs": [
    {
     "name": "stdout",
     "output_type": "stream",
     "text": [
      "75\n",
      "<class 'str'>\n",
      "75\n",
      "<class 'int'>\n"
     ]
    }
   ],
   "source": [
    "a = \"75\"\n",
    "print(a)\n",
    "print(type(a))\n",
    "b = int(a)\n",
    "print(b)\n",
    "print(type(b))"
   ]
  },
  {
   "cell_type": "code",
   "execution_count": 56,
   "metadata": {},
   "outputs": [
    {
     "name": "stdout",
     "output_type": "stream",
     "text": [
      "Enter 1st number: 5\n",
      "Enter 2nd number: 5\n",
      "Addition is 10\n"
     ]
    }
   ],
   "source": [
    "num1 = int(input(\"Enter 1st number: \"))\n",
    "num2 = int(input(\"Enter 2nd number: \"))\n",
    "add = num1 + num2\n",
    "print(\"Addition is\",add)"
   ]
  }
 ],
 "metadata": {
  "kernelspec": {
   "display_name": "Python 3",
   "language": "python",
   "name": "python3"
  },
  "language_info": {
   "codemirror_mode": {
    "name": "ipython",
    "version": 3
   },
   "file_extension": ".py",
   "mimetype": "text/x-python",
   "name": "python",
   "nbconvert_exporter": "python",
   "pygments_lexer": "ipython3",
   "version": "3.7.3"
  }
 },
 "nbformat": 4,
 "nbformat_minor": 4
}
